{
  "nbformat": 4,
  "nbformat_minor": 0,
  "metadata": {
    "colab": {
      "provenance": [],
      "authorship_tag": "ABX9TyOgfQ5VKLTAGiEmkYVHXpYt",
      "include_colab_link": true
    },
    "kernelspec": {
      "name": "python3",
      "display_name": "Python 3"
    },
    "language_info": {
      "name": "python"
    }
  },
  "cells": [
    {
      "cell_type": "markdown",
      "metadata": {
        "id": "view-in-github",
        "colab_type": "text"
      },
      "source": [
        "<a href=\"https://colab.research.google.com/github/NeerajP2003/118S--Agent-AI/blob/main/Coding_Exercise_Prompt_Engineering.ipynb\" target=\"_parent\"><img src=\"https://colab.research.google.com/assets/colab-badge.svg\" alt=\"Open In Colab\"/></a>"
      ]
    },
    {
      "cell_type": "code",
      "execution_count": 1,
      "metadata": {
        "colab": {
          "base_uri": "https://localhost:8080/"
        },
        "id": "XaIknHEyfLWD",
        "outputId": "967297c2-29df-45d0-9553-6a734b4ecce6"
      },
      "outputs": [
        {
          "output_type": "stream",
          "name": "stdout",
          "text": [
            "User message: Hi, I was charged twice yesterday and want a refund.\n",
            "\n",
            "[1] Intent Classification: {\n",
            "  \"intent\": \"billing\",\n",
            "  \"confidence\": 0.88\n",
            "}\n",
            "\n",
            "[2] Info Gathering Questions:\n",
            "- Which invoice or charge are you referring to (date/amount)?\n",
            "- What is the payment method (card/UPI/netbanking)?\n",
            "\n",
            "[3] Chosen Solution Snippet:\n",
            " Open Billing > Transactions > Select the charge > Click 'Dispute'. Attach a brief note and submit. You'll get an email within 24 hours.\n",
            "\n",
            "[4] Final Support Reply:\n",
            " Thanks for reaching out — I think I understand the issue. Let's try this:\n",
            "1. Open Billing > Transactions > Select the charge > Click 'Dispute'.\n",
            "2. Attach a brief note and submit.\n",
            "3. You'll get an email within 24 hours.\n",
            "If that doesn’t resolve it, I’m here to help with next steps.\n"
          ]
        }
      ],
      "source": [
        "# customer_support_chain.py\n",
        "from typing import Dict, Any, List\n",
        "import json\n",
        "\n",
        "class FakeLLM:\n",
        "    \"\"\"Tiny rule-based 'LLM' so this runs without external APIs.\"\"\"\n",
        "    def intent(self, message: str) -> Dict[str, Any]:\n",
        "        msg = message.lower()\n",
        "        if any(w in msg for w in [\"refund\", \"charged\", \"billing\", \"invoice\", \"payment\"]):\n",
        "            return {\"intent\": \"billing\", \"confidence\": 0.88}\n",
        "        if any(w in msg for w in [\"error\",\"bug\",\"crash\",\"not working\",\"failed\",\"issue\"]):\n",
        "            return {\"intent\": \"technical_issue\", \"confidence\": 0.86}\n",
        "        if any(w in msg for w in [\"login\",\"password\",\"otp\",\"2fa\",\"locked\",\"access\"]):\n",
        "            return {\"intent\": \"account_access\", \"confidence\": 0.84}\n",
        "        return {\"intent\": \"other\", \"confidence\": 0.55}\n",
        "\n",
        "    def gather(self, intent: str) -> List[str]:\n",
        "        questions = {\n",
        "            \"billing\": [\n",
        "                \"Which invoice or charge are you referring to (date/amount)?\",\n",
        "                \"What is the payment method (card/UPI/netbanking)?\"\n",
        "            ],\n",
        "            \"technical_issue\": [\n",
        "                \"What action were you performing when the issue occurred?\",\n",
        "                \"Can you share the exact error message or a screenshot?\",\n",
        "                \"What device/OS/app version are you using?\"\n",
        "            ],\n",
        "            \"account_access\": [\n",
        "                \"What happens when you try to sign in (error text)?\",\n",
        "                \"Have you tried password reset or alternative 2FA methods?\"\n",
        "            ],\n",
        "            \"other\": [\n",
        "                \"Could you describe your request in one line?\"\n",
        "            ]\n",
        "        }\n",
        "        return questions.get(intent, questions[\"other\"])\n",
        "\n",
        "    def pick_solution(self, intent: str, facts: Dict[str, str], kb: Dict[str, str]) -> str:\n",
        "        return kb.get(intent, \"Please provide more details so I can assist.\")\n",
        "\n",
        "    def draft_reply(self, solution: str) -> str:\n",
        "        steps = [s.strip() for s in solution.split('.') if s.strip()]\n",
        "        lines = [\"Thanks for reaching out — I think I understand the issue. Let's try this:\"]\n",
        "        for i, s in enumerate(steps, 1):\n",
        "            lines.append(f\"{i}. {s}.\")\n",
        "        lines.append(\"If that doesn’t resolve it, I’m here to help with next steps.\")\n",
        "        return \"\\n\".join(lines)\n",
        "\n",
        "# --- Mini knowledge base (replace with your real KB) ---\n",
        "KB = {\n",
        "    \"billing\": (\n",
        "        \"Open Billing > Transactions > Select the charge > Click 'Dispute'. \"\n",
        "        \"Attach a brief note and submit. You'll get an email within 24 hours.\"\n",
        "    ),\n",
        "    \"technical_issue\": (\n",
        "        \"Restart the app. Clear cache in Settings. If the error persists, reinstall the app. \"\n",
        "        \"Share logs from Settings > Diagnostics.\"\n",
        "    ),\n",
        "    \"account_access\": (\n",
        "        \"Use 'Forgot password'. If 2FA fails, choose 'Use backup codes'. \"\n",
        "        \"Still stuck? Contact support to verify identity.\"\n",
        "    )\n",
        "}\n",
        "\n",
        "def run_chain(user_message: str, extra_facts: Dict[str, str] | None = None) -> None:\n",
        "    llm = FakeLLM()\n",
        "    facts = extra_facts or {}\n",
        "\n",
        "    # 1) Intent Classification\n",
        "    ic = llm.intent(user_message)\n",
        "    intent = ic[\"intent\"]\n",
        "\n",
        "    # 2) Info Gathering\n",
        "    questions = llm.gather(intent)\n",
        "\n",
        "    # 3) Solution Retrieval\n",
        "    solution = llm.pick_solution(intent, facts, KB)\n",
        "\n",
        "    # 4) Draft Reply\n",
        "    reply = llm.draft_reply(solution)\n",
        "\n",
        "    # --- Show chain outputs ---\n",
        "    print(\"User message:\", user_message)\n",
        "    print(\"\\n[1] Intent Classification:\", json.dumps(ic, indent=2))\n",
        "    print(\"\\n[2] Info Gathering Questions:\")\n",
        "    for q in questions:\n",
        "        print(\"-\", q)\n",
        "    print(\"\\n[3] Chosen Solution Snippet:\\n\", solution)\n",
        "    print(\"\\n[4] Final Support Reply:\\n\", reply)\n",
        "\n",
        "if __name__ == \"__main__\":\n",
        "    run_chain(\n",
        "        \"Hi, I was charged twice yesterday and want a refund.\",\n",
        "        {\"charge_date\": \"2025-10-01\", \"payment_method\": \"card\"}\n",
        "    )"
      ]
    }
  ]
}