{
  "nbformat": 4,
  "nbformat_minor": 0,
  "metadata": {
    "colab": {
      "provenance": [],
      "authorship_tag": "ABX9TyNAg2fwviFpGuNLpIArvRes",
      "include_colab_link": true
    },
    "kernelspec": {
      "name": "python3",
      "display_name": "Python 3"
    },
    "language_info": {
      "name": "python"
    }
  },
  "cells": [
    {
      "cell_type": "markdown",
      "metadata": {
        "id": "view-in-github",
        "colab_type": "text"
      },
      "source": [
        "<a href=\"https://colab.research.google.com/github/NeerajP2003/118S--Agent-AI/blob/main/Coding_Exercise_Prompt_Engineering_2.ipynb\" target=\"_parent\"><img src=\"https://colab.research.google.com/assets/colab-badge.svg\" alt=\"Open In Colab\"/></a>"
      ]
    },
    {
      "cell_type": "code",
      "execution_count": 1,
      "metadata": {
        "colab": {
          "base_uri": "https://localhost:8080/"
        },
        "id": "W3BqCYtBMBYo",
        "outputId": "3dbdf994-19a8-403c-e5ce-f796385cba08"
      },
      "outputs": [
        {
          "output_type": "stream",
          "name": "stdout",
          "text": [
            "=== ReACT Trace ===\n",
            "Thought: We need mean, median, and std. Python's 'statistics' has mean/median and pstdev.\n",
            "Thought: I'll create a short script that computes and prints these metrics for the given list.\n",
            "Action: python: import statistics; compute metrics on the sample\n",
            "Observation: Trial calc succeeded (numbers are valid).\n",
            "\n",
            "=== Generated Code (Final Answer) ===\n",
            "\n",
            "numbers = [12, 7, 3, 8, 15, 10, 21, 18, 7, 9]\n",
            "import statistics\n",
            "\n",
            "mean_value = statistics.mean(numbers)\n",
            "median_value = statistics.median(numbers)\n",
            "std_value = statistics.pstdev(numbers)  # population std\n",
            "\n",
            "print(\"Mean:\", mean_value)\n",
            "print(\"Median:\", median_value)\n",
            "print(\"Std (population):\", std_value)\n",
            "\n",
            "=== Execution Output ===\n",
            "Mean: 11\n",
            "Median: 9.5\n",
            "Std (population): 5.253570214625479\n"
          ]
        }
      ],
      "source": [
        "# react_code_generation_demo.py\n",
        "# Goal: Demonstrate ReACT prompting style for code generation + execution.\n",
        "\n",
        "import statistics\n",
        "import textwrap\n",
        "\n",
        "class ReACTAgent:\n",
        "    \"\"\"\n",
        "    A tiny, deterministic ReACT-style agent that:\n",
        "      - emits Thought / Action / Observation steps,\n",
        "      - 'generates' final code (deterministically here for demo),\n",
        "      - and executes it to show the result.\n",
        "    \"\"\"\n",
        "    def __init__(self, numbers):\n",
        "        self.numbers = numbers\n",
        "        self.trace = []\n",
        "\n",
        "    # Helpers to record the ReACT trace\n",
        "    def thought(self, msg): self.trace.append(f\"Thought: {msg}\")\n",
        "    def action(self, msg):  self.trace.append(f\"Action: {msg}\")\n",
        "    def observation(self, msg): self.trace.append(f\"Observation: {msg}\")\n",
        "\n",
        "    def plan(self):\n",
        "        # Reason about tools and approach (simulated “reasoning”)\n",
        "        self.thought(\"We need mean, median, and std. Python's 'statistics' has mean/median and pstdev.\")\n",
        "        self.thought(\"I'll create a short script that computes and prints these metrics for the given list.\")\n",
        "\n",
        "        # Try a small calculation step to validate approach (as if using a tool)\n",
        "        self.action(\"python: import statistics; compute metrics on the sample\")\n",
        "        try:\n",
        "            # Trial computation (like a tool call) — not the final code, just a check\n",
        "            _mu  = statistics.mean(self.numbers)\n",
        "            _med = statistics.median(self.numbers)\n",
        "            _sd  = statistics.pstdev(self.numbers)\n",
        "            self.observation(\"Trial calc succeeded (numbers are valid).\")\n",
        "        except Exception as e:\n",
        "            self.observation(f\"Trial calc failed: {e}\")\n",
        "            raise\n",
        "\n",
        "        # Produce the final answer = code (what a real LLM would output)\n",
        "        code = textwrap.dedent(f\"\"\"\n",
        "        numbers = {self.numbers!r}\n",
        "        import statistics\n",
        "\n",
        "        mean_value = statistics.mean(numbers)\n",
        "        median_value = statistics.median(numbers)\n",
        "        std_value = statistics.pstdev(numbers)  # population std\n",
        "\n",
        "        print(\"Mean:\", mean_value)\n",
        "        print(\"Median:\", median_value)\n",
        "        print(\"Std (population):\", std_value)\n",
        "        \"\"\").strip()\n",
        "        return code\n",
        "\n",
        "    def run(self):\n",
        "        # Build plan → get final code\n",
        "        final_code = self.plan()\n",
        "\n",
        "        # Print the ReACT trace\n",
        "        print(\"=== ReACT Trace ===\")\n",
        "        for line in self.trace:\n",
        "            print(line)\n",
        "\n",
        "        # Show the generated code (final answer)\n",
        "        print(\"\\n=== Generated Code (Final Answer) ===\\n\")\n",
        "        print(final_code)\n",
        "\n",
        "        # Execute the generated code safely\n",
        "        print(\"\\n=== Execution Output ===\")\n",
        "        exec_locals = {}\n",
        "        exec(final_code, {}, exec_locals)\n",
        "\n",
        "if __name__ == \"__main__\":\n",
        "    # Example data; replace with your own list as needed\n",
        "    numbers = [12, 7, 3, 8, 15, 10, 21, 18, 7, 9]\n",
        "    agent = ReACTAgent(numbers)\n",
        "    agent.run()"
      ]
    }
  ]
}